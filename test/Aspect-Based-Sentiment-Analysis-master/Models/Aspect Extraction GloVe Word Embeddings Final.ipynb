{
 "cells": [
  {
   "cell_type": "code",
   "execution_count": 1,
   "metadata": {
    "collapsed": false
   },
   "outputs": [
    {
     "name": "stderr",
     "output_type": "stream",
     "text": [
      "Using Theano backend.\n",
      "WARNING (theano.gof.compilelock): Overriding existing lock by dead process '5090' (I am process '5958')\n",
      "Using gpu device 0: GeForce GT 730M (CNMeM is disabled, cuDNN 5103)\n"
     ]
    }
   ],
   "source": [
    "from __future__ import print_function\n",
    "import os\n",
    "import numpy as np\n",
    "np.random.seed(1337)\n",
    "\n",
    "from keras.preprocessing.text import Tokenizer\n",
    "from keras.preprocessing.sequence import pad_sequences\n",
    "from keras.utils.np_utils import to_categorical\n",
    "from keras.layers import Dense, Input, Flatten\n",
    "from keras.layers import Conv1D, MaxPooling1D, Embedding\n",
    "from keras.models import Model\n",
    "import sys"
   ]
  },
  {
   "cell_type": "markdown",
   "metadata": {},
   "source": [
    "### Importing texts"
   ]
  },
  {
   "cell_type": "code",
   "execution_count": 2,
   "metadata": {
    "collapsed": false
   },
   "outputs": [
    {
     "name": "stdout",
     "output_type": "stream",
     "text": [
      "Processing text dataset\n",
      "Generated list of sentences..\n"
     ]
    }
   ],
   "source": [
    "import xml.etree.ElementTree as ET\n",
    "print('Processing text dataset')\n",
    "\n",
    "tree = ET.parse(\"/home/jeet/Academics/CS671/Project/Restaurants_Train.xml\")\n",
    "corpus = tree.getroot()\n",
    "sentences = [] # List of list of sentences.\n",
    "sent = corpus.findall('.//sentence')\n",
    "for s in sent:\n",
    "    sentences.append(s.find('text').text)\n",
    "\n",
    "print ('Generated list of sentences..')"
   ]
  },
  {
   "cell_type": "code",
   "execution_count": 3,
   "metadata": {
    "collapsed": true
   },
   "outputs": [],
   "source": [
    "MAX_SEQ_LENGTH = 69\n",
    "MAX_NB_WORDS = 40000\n",
    "EMBEDDING_DIM = 300"
   ]
  },
  {
   "cell_type": "markdown",
   "metadata": {},
   "source": [
    "#### Indexing Word Vectors"
   ]
  },
  {
   "cell_type": "code",
   "execution_count": 4,
   "metadata": {
    "collapsed": false
   },
   "outputs": [
    {
     "name": "stdout",
     "output_type": "stream",
     "text": [
      "Indexing word vectors.\n",
      "Found 400000 word vectors.\n"
     ]
    }
   ],
   "source": [
    "print('Indexing word vectors.')\n",
    "\n",
    "embeddings_index = {}\n",
    "f = open('glove.6B/glove.6B.300d.txt')\n",
    "for line in f:\n",
    "    values = line.split()\n",
    "    word = values[0]\n",
    "    coefs = np.asarray(values[1:], dtype='float32')\n",
    "    embeddings_index[word] = coefs\n",
    "f.close()\n",
    "\n",
    "print('Found %s word vectors.' % len(embeddings_index))"
   ]
  },
  {
   "cell_type": "markdown",
   "metadata": {},
   "source": [
    "#### vectorize the text samples into a 2D integer tensor and padding the sentences"
   ]
  },
  {
   "cell_type": "code",
   "execution_count": 5,
   "metadata": {
    "collapsed": false
   },
   "outputs": [
    {
     "name": "stdout",
     "output_type": "stream",
     "text": [
      "Found 5250 unique tokens.\n",
      "Let's have a quick look at the word_index data..\n",
      "[('rasamalai', 2402), ('limited', 647), ('arrives', 4234), ('legacies', 2403), ('raining', 2404), ('saves', 1617), ('AN', 2405), ('meatsauce', 4956), ('sleek', 1237), ('four', 648)]\n"
     ]
    }
   ],
   "source": [
    "tokenizer = Tokenizer(nb_words=MAX_NB_WORDS, lower=False)\n",
    "tokenizer.fit_on_texts(sentences)\n",
    "sequences = tokenizer.texts_to_sequences(sentences)\n",
    "\n",
    "word_index = tokenizer.word_index\n",
    "print('Found %s unique tokens.' % len(word_index))\n",
    "print (\"Let's have a quick look at the word_index data..\")\n",
    "print (list(word_index.items())[:10])\n",
    "# print (word_index['limited'])"
   ]
  },
  {
   "cell_type": "code",
   "execution_count": 6,
   "metadata": {
    "collapsed": false
   },
   "outputs": [
    {
     "name": "stdout",
     "output_type": "stream",
     "text": [
      "Shape of data tensor: (3044, 69)\n"
     ]
    }
   ],
   "source": [
    "data = pad_sequences(sequences, maxlen=MAX_SEQ_LENGTH, padding='post')\n",
    "print('Shape of data tensor:', data.shape)"
   ]
  },
  {
   "cell_type": "markdown",
   "metadata": {
    "collapsed": true
   },
   "source": [
    "#### defining output data"
   ]
  },
  {
   "cell_type": "code",
   "execution_count": 7,
   "metadata": {
    "collapsed": false
   },
   "outputs": [
    {
     "name": "stderr",
     "output_type": "stream",
     "text": [
      "/usr/local/lib/python2.7/dist-packages/ipykernel/__main__.py:11: FutureWarning: The behavior of this method will change in future versions.  Use specific 'len(elem)' or 'elem is not None' test instead.\n"
     ]
    }
   ],
   "source": [
    "import nltk\n",
    "from keras.preprocessing.text import text_to_word_sequence\n",
    "raw_output = corpus.findall('.//sentence')\n",
    "train_out= np.zeros(shape=(3044,69))\n",
    "i=0\n",
    "for output in raw_output:\n",
    "    s = text_to_word_sequence(output.find('text').text, lower=False)\n",
    "    indices = np.zeros(MAX_SEQ_LENGTH)\n",
    "    \n",
    "    aspectTerms = output.find('aspectTerms')\n",
    "    if (aspectTerms):\n",
    "        aspectTerm = aspectTerms.findall('aspectTerm')\n",
    "        if (aspectTerm):\n",
    "            for aspect_term in aspectTerm:\n",
    "                try:\n",
    "                    indices[s.index(aspect_term.attrib['term'])] = 1\n",
    "#                     print (indices)\n",
    "                except:\n",
    "                    continue\n",
    "    train_out[i] = indices\n",
    "    i=i+1"
   ]
  },
  {
   "cell_type": "code",
   "execution_count": 8,
   "metadata": {
    "collapsed": false
   },
   "outputs": [
    {
     "name": "stdout",
     "output_type": "stream",
     "text": [
      "(3044, 69)\n"
     ]
    }
   ],
   "source": [
    "print (train_out.shape)"
   ]
  },
  {
   "cell_type": "markdown",
   "metadata": {},
   "source": [
    "#### Preparing Embedding Layer"
   ]
  },
  {
   "cell_type": "code",
   "execution_count": 9,
   "metadata": {
    "collapsed": false
   },
   "outputs": [
    {
     "name": "stdout",
     "output_type": "stream",
     "text": [
      "Preparing embedding matrix.\n"
     ]
    }
   ],
   "source": [
    "print('Preparing embedding matrix.')\n",
    "\n",
    "# prepare embedding matrix\n",
    "nb_words = len(word_index)\n",
    "embedding_matrix = np.zeros((nb_words + 1, 300))\n",
    "for word, i in word_index.items():\n",
    "    if i > MAX_NB_WORDS:\n",
    "        continue\n",
    "    embedding_vector = embeddings_index.get(word)\n",
    "    if embedding_vector is not None:\n",
    "        # words not found in embedding index will be all-zeros.\n",
    "        embedding_matrix[i] = embedding_vector\n",
    "\n",
    "# load pre-trained word embeddings into an Embedding layer\n",
    "# note that we set trainable = False so as to keep the embeddings fixed\n",
    "embedding_layer = Embedding(nb_words + 1,\n",
    "                            300,\n",
    "                            weights=[embedding_matrix],\n",
    "                            input_length=MAX_SEQ_LENGTH,\n",
    "                            trainable=False)"
   ]
  },
  {
   "cell_type": "markdown",
   "metadata": {},
   "source": [
    "### Defining and Training Model"
   ]
  },
  {
   "cell_type": "code",
   "execution_count": 10,
   "metadata": {
    "collapsed": true
   },
   "outputs": [],
   "source": [
    "from keras.models import Sequential\n",
    "from keras.layers.convolutional import Convolution1D, Convolution2D\n",
    "from keras.layers.convolutional import MaxPooling1D, MaxPooling2D\n",
    "from keras.layers.core import Activation\n",
    "from keras.layers.core import Flatten\n",
    "from keras.layers.core import Dense\n",
    "from keras.preprocessing import sequence\n",
    "from keras.optimizers import *\n",
    "from keras.regularizers import l2"
   ]
  },
  {
   "cell_type": "code",
   "execution_count": 11,
   "metadata": {
    "collapsed": false
   },
   "outputs": [
    {
     "name": "stdout",
     "output_type": "stream",
     "text": [
      "Training model.\n"
     ]
    }
   ],
   "source": [
    "print('Training model.')\n",
    "\n",
    "model = Sequential()\n",
    "model.add(embedding_layer)\n",
    "model.add(Convolution1D(100, 5, border_mode=\"same\", input_shape=(65, 300)))\n",
    "model.add(Activation(\"tanh\"))\n",
    "model.add(MaxPooling1D(pool_length=5))\n",
    "model.add(Convolution1D(50, 3, border_mode=\"same\"))\n",
    "model.add(Activation(\"tanh\"))\n",
    "model.add(MaxPooling1D(pool_length=2))\n",
    "model.add(Flatten())\n",
    "model.add(Dense(500))\n",
    "model.add(Activation(\"tanh\"))\n",
    "# softmax classifier\n",
    "model.add(Dense(69, W_regularizer=l2(0.01)))\n",
    "model.add(Activation(\"softmax\"))\n",
    "\n",
    "\n",
    "\n",
    "# # train a 1D convnet with global maxpooling\n",
    "# sequence_input = Input(shape=(MAX_SEQ_LENGTH,), dtype='int32')\n",
    "# embedded_sequences = embedding_layer(sequence_input)\n",
    "# x = Conv1D(100, 5, activation='tanh')(embedded_sequences)\n",
    "# x = MaxPooling1D(5)(x)\n",
    "# x = Conv1D(50, 5, activation='relu')(x)\n",
    "# x = MaxPooling1D(5)(x)\n",
    "# x = Conv1D(128, 5, activation='relu')(x)\n",
    "# x = MaxPooling1D(35)(x)\n",
    "# x = Flatten()(x)\n",
    "# x = Dense(128, activation='relu')(x)\n",
    "# preds = Dense(len(labels_index), activation='softmax')(x)\n",
    "\n",
    "# model = Model(sequence_input, preds)\n",
    "model.compile(loss='categorical_crossentropy',\n",
    "              optimizer='rmsprop',\n",
    "              metrics=['acc'])"
   ]
  },
  {
   "cell_type": "code",
   "execution_count": 12,
   "metadata": {
    "collapsed": false
   },
   "outputs": [
    {
     "name": "stdout",
     "output_type": "stream",
     "text": [
      "____________________________________________________________________________________________________\n",
      "Layer (type)                     Output Shape          Param #     Connected to                     \n",
      "====================================================================================================\n",
      "embedding_1 (Embedding)          (None, 69, 300)       0           embedding_input_1[0][0]          \n",
      "____________________________________________________________________________________________________\n",
      "convolution1d_1 (Convolution1D)  (None, 69, 100)       150100      embedding_1[0][0]                \n",
      "____________________________________________________________________________________________________\n",
      "activation_1 (Activation)        (None, 69, 100)       0           convolution1d_1[0][0]            \n",
      "____________________________________________________________________________________________________\n",
      "maxpooling1d_1 (MaxPooling1D)    (None, 13, 100)       0           activation_1[0][0]               \n",
      "____________________________________________________________________________________________________\n",
      "convolution1d_2 (Convolution1D)  (None, 13, 50)        15050       maxpooling1d_1[0][0]             \n",
      "____________________________________________________________________________________________________\n",
      "activation_2 (Activation)        (None, 13, 50)        0           convolution1d_2[0][0]            \n",
      "____________________________________________________________________________________________________\n",
      "maxpooling1d_2 (MaxPooling1D)    (None, 6, 50)         0           activation_2[0][0]               \n",
      "____________________________________________________________________________________________________\n",
      "flatten_1 (Flatten)              (None, 300)           0           maxpooling1d_2[0][0]             \n",
      "____________________________________________________________________________________________________\n",
      "dense_1 (Dense)                  (None, 500)           150500      flatten_1[0][0]                  \n",
      "____________________________________________________________________________________________________\n",
      "activation_3 (Activation)        (None, 500)           0           dense_1[0][0]                    \n",
      "____________________________________________________________________________________________________\n",
      "dense_2 (Dense)                  (None, 69)            34569       activation_3[0][0]               \n",
      "____________________________________________________________________________________________________\n",
      "activation_4 (Activation)        (None, 69)            0           dense_2[0][0]                    \n",
      "====================================================================================================\n",
      "Total params: 350219\n",
      "____________________________________________________________________________________________________\n",
      "None\n"
     ]
    }
   ],
   "source": [
    "print (model.summary())"
   ]
  },
  {
   "cell_type": "code",
   "execution_count": 17,
   "metadata": {
    "collapsed": false
   },
   "outputs": [
    {
     "name": "stdout",
     "output_type": "stream",
     "text": [
      "Train on 2739 samples, validate on 305 samples\n",
      "Epoch 1/50\n",
      "2739/2739 [==============================] - 5s - loss: 2.9032 - acc: 0.2311 - val_loss: 2.2279 - val_acc: 0.2557\n",
      "Epoch 2/50\n",
      "2739/2739 [==============================] - 5s - loss: 2.1396 - acc: 0.4122 - val_loss: 1.9800 - val_acc: 0.4984\n",
      "Epoch 3/50\n",
      "2739/2739 [==============================] - 5s - loss: 1.6870 - acc: 0.4746 - val_loss: 1.8439 - val_acc: 0.4459\n",
      "Epoch 4/50\n",
      "2739/2739 [==============================] - 5s - loss: 1.4014 - acc: 0.5152 - val_loss: 1.7697 - val_acc: 0.4098\n",
      "Epoch 5/50\n",
      "2739/2739 [==============================] - 5s - loss: 1.2766 - acc: 0.5214 - val_loss: 1.7806 - val_acc: 0.4721\n",
      "Epoch 6/50\n",
      "2739/2739 [==============================] - 5s - loss: 1.2094 - acc: 0.5184 - val_loss: 1.7890 - val_acc: 0.4525\n",
      "Epoch 7/50\n",
      "2739/2739 [==============================] - 6s - loss: 1.1194 - acc: 0.5316 - val_loss: 1.7253 - val_acc: 0.3934\n",
      "Epoch 8/50\n",
      "2739/2739 [==============================] - 6s - loss: 1.0933 - acc: 0.5261 - val_loss: 1.7595 - val_acc: 0.4459\n",
      "Epoch 9/50\n",
      "2739/2739 [==============================] - 6s - loss: 1.0497 - acc: 0.5232 - val_loss: 1.6452 - val_acc: 0.4820\n",
      "Epoch 10/50\n",
      "2739/2739 [==============================] - 6s - loss: 1.0167 - acc: 0.5192 - val_loss: 1.6792 - val_acc: 0.4295\n",
      "Epoch 11/50\n",
      "2739/2739 [==============================] - 6s - loss: 0.9926 - acc: 0.5235 - val_loss: 1.6200 - val_acc: 0.4590\n",
      "Epoch 12/50\n",
      "2739/2739 [==============================] - 6s - loss: 0.9725 - acc: 0.5188 - val_loss: 1.6327 - val_acc: 0.4393\n",
      "Epoch 13/50\n",
      "2739/2739 [==============================] - 6s - loss: 0.9503 - acc: 0.5250 - val_loss: 1.6960 - val_acc: 0.4590\n",
      "Epoch 14/50\n",
      "2739/2739 [==============================] - 6s - loss: 0.9374 - acc: 0.5071 - val_loss: 1.6428 - val_acc: 0.4525\n",
      "Epoch 15/50\n",
      "2739/2739 [==============================] - 6s - loss: 0.9193 - acc: 0.5246 - val_loss: 1.6052 - val_acc: 0.4984\n",
      "Epoch 16/50\n",
      "2739/2739 [==============================] - 6s - loss: 0.9059 - acc: 0.5298 - val_loss: 1.6393 - val_acc: 0.4098\n",
      "Epoch 17/50\n",
      "2739/2739 [==============================] - 6s - loss: 0.8988 - acc: 0.5104 - val_loss: 1.6378 - val_acc: 0.4459\n",
      "Epoch 18/50\n",
      "2739/2739 [==============================] - 6s - loss: 0.8841 - acc: 0.5192 - val_loss: 1.6435 - val_acc: 0.4557\n",
      "Epoch 19/50\n",
      "2739/2739 [==============================] - 6s - loss: 0.8783 - acc: 0.5210 - val_loss: 1.5932 - val_acc: 0.4590\n",
      "Epoch 20/50\n",
      "2739/2739 [==============================] - 6s - loss: 0.8706 - acc: 0.5206 - val_loss: 1.6034 - val_acc: 0.4689\n",
      "Epoch 21/50\n",
      "2739/2739 [==============================] - 6s - loss: 0.8667 - acc: 0.5188 - val_loss: 1.5625 - val_acc: 0.4492\n",
      "Epoch 22/50\n",
      "2739/2739 [==============================] - 6s - loss: 0.8560 - acc: 0.5221 - val_loss: 1.6010 - val_acc: 0.4623\n",
      "Epoch 23/50\n",
      "2739/2739 [==============================] - 6s - loss: 0.8501 - acc: 0.5239 - val_loss: 1.6873 - val_acc: 0.4787\n",
      "Epoch 24/50\n",
      "2739/2739 [==============================] - 6s - loss: 0.8373 - acc: 0.5195 - val_loss: 1.6399 - val_acc: 0.4656\n",
      "Epoch 25/50\n",
      "2739/2739 [==============================] - 5s - loss: 0.8391 - acc: 0.5323 - val_loss: 1.6181 - val_acc: 0.4852\n",
      "Epoch 26/50\n",
      "2739/2739 [==============================] - 6s - loss: 0.8383 - acc: 0.5195 - val_loss: 1.6332 - val_acc: 0.4623\n",
      "Epoch 27/50\n",
      "2739/2739 [==============================] - 5s - loss: 0.8360 - acc: 0.5184 - val_loss: 1.5923 - val_acc: 0.4820\n",
      "Epoch 28/50\n",
      "2739/2739 [==============================] - 5s - loss: 0.8227 - acc: 0.5199 - val_loss: 1.6201 - val_acc: 0.4590\n",
      "Epoch 29/50\n",
      "2739/2739 [==============================] - 5s - loss: 0.8267 - acc: 0.5159 - val_loss: 1.6093 - val_acc: 0.4459\n",
      "Epoch 30/50\n",
      "2739/2739 [==============================] - 5s - loss: 0.8178 - acc: 0.5272 - val_loss: 1.6576 - val_acc: 0.4885\n",
      "Epoch 31/50\n",
      "2739/2739 [==============================] - 5s - loss: 0.8105 - acc: 0.5225 - val_loss: 1.6035 - val_acc: 0.4525\n",
      "Epoch 32/50\n",
      "2739/2739 [==============================] - 5s - loss: 0.8153 - acc: 0.5250 - val_loss: 1.6120 - val_acc: 0.4787\n",
      "Epoch 33/50\n",
      "2739/2739 [==============================] - 6s - loss: 0.8109 - acc: 0.5287 - val_loss: 1.5435 - val_acc: 0.4689\n",
      "Epoch 34/50\n",
      "2739/2739 [==============================] - 6s - loss: 0.8082 - acc: 0.5162 - val_loss: 1.6406 - val_acc: 0.4623\n",
      "Epoch 35/50\n",
      "2739/2739 [==============================] - 6s - loss: 0.8060 - acc: 0.5177 - val_loss: 1.5679 - val_acc: 0.4656\n",
      "Epoch 36/50\n",
      "2739/2739 [==============================] - 6s - loss: 0.8043 - acc: 0.5265 - val_loss: 1.5705 - val_acc: 0.4623\n",
      "Epoch 37/50\n",
      "2739/2739 [==============================] - 6s - loss: 0.7978 - acc: 0.5166 - val_loss: 1.6007 - val_acc: 0.4361\n",
      "Epoch 38/50\n",
      "2739/2739 [==============================] - 6s - loss: 0.7949 - acc: 0.5261 - val_loss: 1.6359 - val_acc: 0.4754\n",
      "Epoch 39/50\n",
      "2739/2739 [==============================] - 6s - loss: 0.7977 - acc: 0.5170 - val_loss: 1.6384 - val_acc: 0.4689\n",
      "Epoch 40/50\n",
      "2739/2739 [==============================] - 6s - loss: 0.7954 - acc: 0.5268 - val_loss: 1.6067 - val_acc: 0.4557\n",
      "Epoch 41/50\n",
      "2739/2739 [==============================] - 6s - loss: 0.7977 - acc: 0.5228 - val_loss: 1.6204 - val_acc: 0.4721\n",
      "Epoch 42/50\n",
      "2739/2739 [==============================] - 6s - loss: 0.7935 - acc: 0.5268 - val_loss: 1.5602 - val_acc: 0.4393\n",
      "Epoch 43/50\n",
      "2739/2739 [==============================] - 6s - loss: 0.7911 - acc: 0.5272 - val_loss: 1.6295 - val_acc: 0.4328\n",
      "Epoch 44/50\n",
      "2739/2739 [==============================] - 6s - loss: 0.7916 - acc: 0.5294 - val_loss: 1.6210 - val_acc: 0.4656\n",
      "Epoch 45/50\n",
      "2739/2739 [==============================] - 6s - loss: 0.7883 - acc: 0.5239 - val_loss: 1.5897 - val_acc: 0.4426\n",
      "Epoch 46/50\n",
      "2739/2739 [==============================] - 6s - loss: 0.7865 - acc: 0.5279 - val_loss: 1.6100 - val_acc: 0.5344\n",
      "Epoch 47/50\n",
      "2739/2739 [==============================] - 6s - loss: 0.7864 - acc: 0.5287 - val_loss: 1.6449 - val_acc: 0.4721\n",
      "Epoch 48/50\n",
      "2739/2739 [==============================] - 6s - loss: 0.7865 - acc: 0.5276 - val_loss: 1.6412 - val_acc: 0.4361\n",
      "Epoch 49/50\n",
      "2739/2739 [==============================] - 6s - loss: 0.7890 - acc: 0.5206 - val_loss: 1.6125 - val_acc: 0.4328\n",
      "Epoch 50/50\n",
      "2739/2739 [==============================] - 6s - loss: 0.7850 - acc: 0.5206 - val_loss: 1.6146 - val_acc: 0.4656\n"
     ]
    },
    {
     "data": {
      "text/plain": [
       "<keras.callbacks.History at 0x7f615d6d4490>"
      ]
     },
     "execution_count": 17,
     "metadata": {},
     "output_type": "execute_result"
    }
   ],
   "source": [
    "model.fit(data, train_out,\n",
    "          validation_split=0.1,\n",
    "          batch_size=10,\n",
    "          nb_epoch=50\n",
    "         )"
   ]
  },
  {
   "cell_type": "code",
   "execution_count": 18,
   "metadata": {
    "collapsed": false
   },
   "outputs": [],
   "source": [
    "model.save_weights('aspect_model.h5')"
   ]
  },
  {
   "cell_type": "code",
   "execution_count": 24,
   "metadata": {
    "collapsed": false
   },
   "outputs": [],
   "source": [
    "test_data = data[:10]\n",
    "test_output = train_out[:10]\n",
    "\n",
    "output = model.predict(test_data)"
   ]
  },
  {
   "cell_type": "code",
   "execution_count": 28,
   "metadata": {
    "collapsed": false
   },
   "outputs": [
    {
     "name": "stdout",
     "output_type": "stream",
     "text": [
      "[  4.40220378e-04   1.26122264e-04   1.09935929e-04   2.44104202e-04\n",
      "   2.69516837e-04   7.90563354e-04   9.34922864e-05   2.38635519e-04\n",
      "   3.93164315e-04   2.75386294e-04   9.94513452e-01   4.34174261e-04\n",
      "   4.88137099e-04   5.99930536e-05   5.10531427e-05   1.66389596e-04\n",
      "   5.12915867e-05   5.40877983e-04   2.78180851e-05   6.20735373e-05\n",
      "   1.71540541e-05   4.06526742e-05   1.91164145e-04   1.02469594e-05\n",
      "   1.26055602e-04   4.19147946e-05   5.87060531e-05   2.10219569e-05\n",
      "   4.76024616e-05   1.31191618e-05   1.45769736e-05   1.06346688e-05\n",
      "   2.12273426e-06   7.43983662e-07   2.19301410e-06   6.97964538e-07\n",
      "   7.69064900e-06   2.11295696e-06   1.49914149e-06   7.29816747e-07\n",
      "   3.74481260e-06   7.29242913e-07   7.21989579e-07   6.97482051e-07\n",
      "   1.76926051e-07   6.98052190e-07   8.48227558e-07   1.77326726e-07\n",
      "   1.77283127e-07   1.76978460e-07   1.05976164e-06   1.77030643e-07\n",
      "   1.76843045e-07   1.77182130e-07   1.76931891e-07   1.77405980e-07\n",
      "   1.77482448e-07   1.77300464e-07   1.77274444e-07   1.77387207e-07\n",
      "   7.62208174e-07   1.77029463e-07   1.77184475e-07   1.77072536e-07\n",
      "   1.77258741e-07   1.77072081e-07   1.77111630e-07   1.77106955e-07\n",
      "   1.77313595e-07]\n",
      "[ 0.  0.  0.  0.  0.  0.  0.  0.  0.  0.  1.  0.  0.  0.  0.  0.  0.  0.\n",
      "  0.  0.  0.  0.  0.  0.  0.  0.  0.  0.  0.  0.  0.  0.  0.  0.  0.  0.\n",
      "  0.  0.  0.  0.  0.  0.  0.  0.  0.  0.  0.  0.  0.  0.  0.  0.  0.  0.\n",
      "  0.  0.  0.  0.  0.  0.  0.  0.  0.  0.  0.  0.  0.  0.  0.]\n"
     ]
    }
   ],
   "source": [
    "print (output[1])\n",
    "print (train_out[1])"
   ]
  },
  {
   "cell_type": "code",
   "execution_count": null,
   "metadata": {
    "collapsed": true
   },
   "outputs": [],
   "source": []
  }
 ],
 "metadata": {
  "kernelspec": {
   "display_name": "Python 2",
   "language": "python",
   "name": "python2"
  },
  "language_info": {
   "codemirror_mode": {
    "name": "ipython",
    "version": 2
   },
   "file_extension": ".py",
   "mimetype": "text/x-python",
   "name": "python",
   "nbconvert_exporter": "python",
   "pygments_lexer": "ipython2",
   "version": "2.7.6"
  }
 },
 "nbformat": 4,
 "nbformat_minor": 1
}
