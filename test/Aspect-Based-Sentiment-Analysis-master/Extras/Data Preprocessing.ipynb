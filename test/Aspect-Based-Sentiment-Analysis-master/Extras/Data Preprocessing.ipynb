{
 "cells": [
  {
   "cell_type": "code",
   "execution_count": 1,
   "metadata": {
    "collapsed": false
   },
   "outputs": [
    {
     "name": "stderr",
     "output_type": "stream",
     "text": [
      "Using gpu device 0: GeForce GT 730M (CNMeM is disabled, cuDNN 5103)\n"
     ]
    }
   ],
   "source": [
    "import nltk\n",
    "import pickle\n",
    "import numpy as np\n",
    "import xml.etree.ElementTree as ET\n",
    "from gensim.models import word2vec\n",
    "from nltk.corpus import stopwords\n",
    "from sklearn import preprocessing"
   ]
  },
  {
   "cell_type": "code",
   "execution_count": 2,
   "metadata": {
    "collapsed": false
   },
   "outputs": [],
   "source": [
    "stops = set(stopwords.words(\"english\"))\n",
    "# # Set values for various parameters\n",
    "num_features = 300    # Word vector dimensionality\n",
    "min_word_count = 1    # Minimum word count. If a word occurs atleast this number of times it is kept else it is removed.\n",
    "num_workers = 4       # Number of threads to run in parallel\n",
    "context = 5           # Context window size\n",
    "downsampling = 1e-3   # Downsample setting for frequent words"
   ]
  },
  {
   "cell_type": "code",
   "execution_count": 3,
   "metadata": {
    "collapsed": false
   },
   "outputs": [],
   "source": [
    "tree = ET.parse(\"/home/jeet/Academics/CS671/Project/Restaurants_Train.xml\")\n",
    "corpus = tree.getroot()\n",
    "s = [] # List of list of word tokens.\n",
    "sentences = corpus.findall('.//sentence')\n",
    "for sent in sentences:\n",
    "    tokens = nltk.word_tokenize(sent.find('text').text)\n",
    "    s.append(tokens)"
   ]
  },
  {
   "cell_type": "code",
   "execution_count": 4,
   "metadata": {
    "collapsed": false
   },
   "outputs": [],
   "source": [
    "model = word2vec.Word2Vec(s, workers=num_workers, size=num_features, min_count = min_word_count, \\\n",
    "                          window = context, sample = downsampling)\n",
    "\n",
    "model.init_sims(replace=True)\n",
    "\n",
    "# model_name = \"300features_1minwords_10context\"\n",
    "# model.save(\"my_name_w2v_withstopwords\")\n",
    "# model = word2vec.Word2Vec()\n",
    "# model = word2vec.Word2Vec().load(\"my_name_w2v_withstopwords\")\n"
   ]
  },
  {
   "cell_type": "code",
   "execution_count": 5,
   "metadata": {
    "collapsed": false
   },
   "outputs": [
    {
     "name": "stderr",
     "output_type": "stream",
     "text": [
      "/usr/local/lib/python2.7/dist-packages/ipykernel/__main__.py:29: FutureWarning: The behavior of this method will change in future versions.  Use specific 'len(elem)' or 'elem is not None' test instead.\n"
     ]
    }
   ],
   "source": [
    "model = model.load(\"my_name_w2v_withstopwords\")\n",
    "le = preprocessing.LabelEncoder()\n",
    "tags = [\"CC\", \"CD\", \"DT\", \"EX\", \"FW\", \"IN\", \"JJ\", \"JJR\", \"JJS\", \"LS\", \"MD\", \"NN\", \"NNS\", \"NNP\", \"NNPS\", \"PDT\", \"POS\", \"PRP\", \"RB\", \"RBR\", \"RBS\",\n",
    "        \"RP\", \"TO\", \"UH\", \"VB\", \"VBD\", \"VBG\", \"VBN\", \"VBP\", \"VBZ\", \"WDT\", \"WP\", \"WRB\", \"PRP$\", \"WP$\", \":\", \"SYM\", \"$\", \"--\", \".\", \",\", \"(\", \")\", \"''\",\n",
    "        \"#\"]\n",
    "#\n",
    "le.fit(tags)\n",
    "# #\n",
    "train_inp = []\n",
    "train_out = []\n",
    "i=0\n",
    "\n",
    "sentences = corpus.findall('.//sentence')\n",
    "for sent in sentences:\n",
    "    w = []\n",
    "    s = nltk.word_tokenize(sent.find('text').text)\n",
    "    tags_for_sent = nltk.pos_tag(s)\n",
    "    ind = [0] * len(s)\n",
    "    i=0\n",
    "    \n",
    "    for t in s:\n",
    "        ohe = [0]*45\n",
    "        ohe[le.transform(tags_for_sent[i][1])] = 1\n",
    "        w.append(np.concatenate([model[t], ohe]))\n",
    "        i = i+1\n",
    "\n",
    "    train_inp.append(w)\n",
    "    aspectTerms = sent.find('aspectTerms')\n",
    "    if (aspectTerms):\n",
    "        aspectTerm = aspectTerms.findall('aspectTerm')\n",
    "        if (aspectTerm):\n",
    "            for aspect_term in aspectTerm:\n",
    "                try:\n",
    "                    ind[s.index(aspect_term.attrib['term'])] = 1\n",
    "                except:\n",
    "                    continue\n",
    "    train_out.append(ind)"
   ]
  },
  {
   "cell_type": "code",
   "execution_count": 6,
   "metadata": {
    "collapsed": false
   },
   "outputs": [
    {
     "name": "stdout",
     "output_type": "stream",
     "text": [
      "(3044,)\n"
     ]
    }
   ],
   "source": [
    "print np.array(train_inp).shape"
   ]
  },
  {
   "cell_type": "code",
   "execution_count": 8,
   "metadata": {
    "collapsed": false
   },
   "outputs": [],
   "source": []
  },
  {
   "cell_type": "code",
   "execution_count": 9,
   "metadata": {
    "collapsed": false
   },
   "outputs": [
    {
     "name": "stdout",
     "output_type": "stream",
     "text": [
      "Train on 2739 samples, validate on 305 samples\n",
      "Epoch 1/20\n",
      "2739/2739 [==============================] - 7s - loss: 0.0104 - acc: 0.1672 - val_loss: 0.0098 - val_acc: 0.1410\n",
      "Epoch 2/20\n",
      "2739/2739 [==============================] - 4s - loss: 0.0097 - acc: 0.2881 - val_loss: 0.0095 - val_acc: 0.2426\n",
      "Epoch 3/20\n",
      "2739/2739 [==============================] - 4s - loss: 0.0093 - acc: 0.2800 - val_loss: 0.0093 - val_acc: 0.2721\n",
      "Epoch 4/20\n",
      "2739/2739 [==============================] - 4s - loss: 0.0090 - acc: 0.2760 - val_loss: 0.0091 - val_acc: 0.2590\n",
      "Epoch 5/20\n",
      "2739/2739 [==============================] - 4s - loss: 0.0086 - acc: 0.2946 - val_loss: 0.0095 - val_acc: 0.2852\n",
      "Epoch 6/20\n",
      "2739/2739 [==============================] - 4s - loss: 0.0083 - acc: 0.3081 - val_loss: 0.0093 - val_acc: 0.2721\n",
      "Epoch 7/20\n",
      "2739/2739 [==============================] - 4s - loss: 0.0079 - acc: 0.3286 - val_loss: 0.0093 - val_acc: 0.2361\n",
      "Epoch 8/20\n",
      "2739/2739 [==============================] - 4s - loss: 0.0075 - acc: 0.3381 - val_loss: 0.0095 - val_acc: 0.2328\n",
      "Epoch 9/20\n",
      "2739/2739 [==============================] - 4s - loss: 0.0072 - acc: 0.3523 - val_loss: 0.0093 - val_acc: 0.2656\n",
      "Epoch 10/20\n",
      "2739/2739 [==============================] - 4s - loss: 0.0069 - acc: 0.3563 - val_loss: 0.0095 - val_acc: 0.2393\n",
      "Epoch 11/20\n",
      "2739/2739 [==============================] - 4s - loss: 0.0066 - acc: 0.3684 - val_loss: 0.0097 - val_acc: 0.2557\n",
      "Epoch 12/20\n",
      "2739/2739 [==============================] - 4s - loss: 0.0064 - acc: 0.3881 - val_loss: 0.0095 - val_acc: 0.2393\n",
      "Epoch 13/20\n",
      "2739/2739 [==============================] - 4s - loss: 0.0062 - acc: 0.3826 - val_loss: 0.0096 - val_acc: 0.2459\n",
      "Epoch 14/20\n",
      "2739/2739 [==============================] - 4s - loss: 0.0060 - acc: 0.3939 - val_loss: 0.0103 - val_acc: 0.2230\n",
      "Epoch 15/20\n",
      "2739/2739 [==============================] - 4s - loss: 0.0060 - acc: 0.3950 - val_loss: 0.0101 - val_acc: 0.2426\n",
      "Epoch 16/20\n",
      "2739/2739 [==============================] - 4s - loss: 0.0058 - acc: 0.3914 - val_loss: 0.0100 - val_acc: 0.2426\n",
      "Epoch 17/20\n",
      "2739/2739 [==============================] - 4s - loss: 0.0056 - acc: 0.3961 - val_loss: 0.0101 - val_acc: 0.2459\n",
      "Epoch 18/20\n",
      "2739/2739 [==============================] - 4s - loss: 0.0056 - acc: 0.4056 - val_loss: 0.0105 - val_acc: 0.2295\n",
      "Epoch 19/20\n",
      "2739/2739 [==============================] - 4s - loss: 0.0054 - acc: 0.4027 - val_loss: 0.0101 - val_acc: 0.2164\n",
      "Epoch 20/20\n",
      "2739/2739 [==============================] - 4s - loss: 0.0054 - acc: 0.4020 - val_loss: 0.0109 - val_acc: 0.2721\n"
     ]
    },
    {
     "data": {
      "text/plain": [
       "<keras.callbacks.History at 0x7feaa3b351d0>"
      ]
     },
     "execution_count": 9,
     "metadata": {},
     "output_type": "execute_result"
    }
   ],
   "source": []
  },
  {
   "cell_type": "code",
   "execution_count": null,
   "metadata": {
    "collapsed": true
   },
   "outputs": [],
   "source": []
  }
 ],
 "metadata": {
  "kernelspec": {
   "display_name": "Python 2",
   "language": "python",
   "name": "python2"
  },
  "language_info": {
   "codemirror_mode": {
    "name": "ipython",
    "version": 2
   },
   "file_extension": ".py",
   "mimetype": "text/x-python",
   "name": "python",
   "nbconvert_exporter": "python",
   "pygments_lexer": "ipython2",
   "version": "2.7.6"
  }
 },
 "nbformat": 4,
 "nbformat_minor": 1
}
